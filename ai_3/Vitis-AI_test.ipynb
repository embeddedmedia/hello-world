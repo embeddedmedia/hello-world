{
 "cells": [
  {
   "cell_type": "markdown",
   "id": "db4a9e05",
   "metadata": {},
   "source": [
    "# Vitis-AI Sample(Image Classification)"
   ]
  },
  {
   "cell_type": "markdown",
   "id": "5d9f4647",
   "metadata": {},
   "source": [
    "## Preparation"
   ]
  },
  {
   "cell_type": "code",
   "execution_count": null,
   "id": "05707e58",
   "metadata": {},
   "outputs": [],
   "source": [
    "import numpy as np\n",
    "import cv2\n",
    "import vitis_ai_library\n",
    "import xir\n",
    "from IPython.display import Image\n",
    "\n",
    "# file path\n",
    "MODEL_PATH = \"inception_resnet_v2_tf.xmodel\"\n",
    "IMG_PATH = \"test.jpg\"\n",
    "LABEL_PATH = \"imagenet_label.txt\"\n",
    "\n",
    "# input size\n",
    "WIDTH = 299\n",
    "HEIGHT = 299\n",
    "\n",
    "# label\n",
    "str_lines = []\n",
    "with open(LABEL_PATH, \"rt\") as rf:\n",
    "    str_lines = rf.readlines()\n",
    "labels = [x[:-1] for x in str_lines]"
   ]
  },
  {
   "cell_type": "markdown",
   "id": "dcb1b6ee",
   "metadata": {},
   "source": [
    "## Display Input Image"
   ]
  },
  {
   "cell_type": "code",
   "execution_count": null,
   "id": "7c38356f",
   "metadata": {},
   "outputs": [],
   "source": [
    "Image(IMG_PATH)"
   ]
  },
  {
   "cell_type": "markdown",
   "id": "e4acff6e",
   "metadata": {},
   "source": [
    "## Load model and Create Instance"
   ]
  },
  {
   "cell_type": "code",
   "execution_count": null,
   "id": "03d25b4b",
   "metadata": {},
   "outputs": [],
   "source": [
    "%%time\n",
    "g = xir.Graph.deserialize(MODEL_PATH)\n",
    "runner = vitis_ai_library.GraphRunner.create_graph_runner(g)"
   ]
  },
  {
   "cell_type": "markdown",
   "id": "62e314c4",
   "metadata": {},
   "source": [
    "## Prepare input/output buffers "
   ]
  },
  {
   "cell_type": "code",
   "execution_count": null,
   "id": "4426d442",
   "metadata": {},
   "outputs": [],
   "source": [
    "# input buffer\n",
    "inputDim = tuple(runner.get_inputs()[0].get_tensor().dims)\n",
    "inputData = [np.empty(inputDim, dtype=np.int8)]\n",
    "\n",
    "# resize input image\n",
    "image = cv2.imread(IMG_PATH, cv2.IMREAD_COLOR)\n",
    "image = cv2.resize(image, dsize=(WIDTH, HEIGHT))\n",
    "\n",
    "# normalization\n",
    "image = image/255.0\n",
    "\n",
    "# quantization\n",
    "fix_point = runner.get_input_tensors()[0].get_attr(\"fix_point\")\n",
    "scale = 2 ** fix_point\n",
    "image = (image * scale).round()\n",
    "image = image.astype(np.int8)\n",
    "\n",
    "# BGR->RGB\n",
    "image = image[:, :, [2, 1, 0]]\n",
    "inputData[0][0] = image\n",
    "\n",
    "# output buffer\n",
    "outputData = runner.get_outputs()"
   ]
  },
  {
   "cell_type": "markdown",
   "id": "f49d0a00",
   "metadata": {},
   "source": [
    "## Prediction"
   ]
  },
  {
   "cell_type": "code",
   "execution_count": null,
   "id": "865cff44",
   "metadata": {},
   "outputs": [],
   "source": [
    "%%time\n",
    "# prediction\n",
    "job_id = runner.execute_async(inputData, outputData)\n",
    "runner.wait(job_id)"
   ]
  },
  {
   "cell_type": "markdown",
   "id": "572f4037",
   "metadata": {},
   "source": [
    "## Confirmation of prediction results"
   ]
  },
  {
   "cell_type": "code",
   "execution_count": null,
   "id": "5ee452a9",
   "metadata": {},
   "outputs": [],
   "source": [
    "resultList = np.asarray(outputData[0])[0]\n",
    "resultIdx = resultList.argmax()\n",
    "resultVal = resultList[resultIdx]\n",
    "print(\"Prediction : %s, %f\"%(labels[resultIdx], resultVal))"
   ]
  },
  {
   "cell_type": "markdown",
   "id": "26e559ac",
   "metadata": {},
   "source": [
    "## Delete Instance"
   ]
  },
  {
   "cell_type": "code",
   "execution_count": null,
   "id": "2b800d23",
   "metadata": {},
   "outputs": [],
   "source": [
    "del runner"
   ]
  }
 ],
 "metadata": {
  "kernelspec": {
   "display_name": "Python 3 (ipykernel)",
   "language": "python",
   "name": "python3"
  },
  "language_info": {
   "codemirror_mode": {
    "name": "ipython",
    "version": 3
   },
   "file_extension": ".py",
   "mimetype": "text/x-python",
   "name": "python",
   "nbconvert_exporter": "python",
   "pygments_lexer": "ipython3",
   "version": "3.9.9"
  },
  "varInspector": {
   "cols": {
    "lenName": 16,
    "lenType": 16,
    "lenVar": 40
   },
   "kernels_config": {
    "python": {
     "delete_cmd_postfix": "",
     "delete_cmd_prefix": "del ",
     "library": "var_list.py",
     "varRefreshCmd": "print(var_dic_list())"
    },
    "r": {
     "delete_cmd_postfix": ") ",
     "delete_cmd_prefix": "rm(",
     "library": "var_list.r",
     "varRefreshCmd": "cat(var_dic_list()) "
    }
   },
   "types_to_exclude": [
    "module",
    "function",
    "builtin_function_or_method",
    "instance",
    "_Feature"
   ],
   "window_display": false
  }
 },
 "nbformat": 4,
 "nbformat_minor": 5
}
